{
 "cells": [
  {
   "cell_type": "code",
   "execution_count": 48,
   "id": "bcbec64b",
   "metadata": {},
   "outputs": [],
   "source": [
    "#import libraries & packages\n",
    "import numpy as np\n",
    "import pandas as pd\n",
    "import seaborn as sns\n",
    "import matplotlib.pyplot as ptl\n",
    "import pickle\n",
    "from sklearn.feature_extraction.text import TfidfVectorizer\n",
    "from sklearn.model_selection import train_test_split\n",
    "from sklearn.svm import SVC"
   ]
  },
  {
   "cell_type": "code",
   "execution_count": 49,
   "id": "4f8cc208",
   "metadata": {},
   "outputs": [],
   "source": [
    "#import Youtube files\n",
    "df1=pd.read_csv(\"dataset/Youtube01-Psy.csv\")\n",
    "df2=pd.read_csv(\"dataset/Youtube02-KatyPerry.csv\")\n",
    "df4=pd.read_csv(\"dataset/Youtube04-Eminem.csv\")\n",
    "df5=pd.read_csv(\"dataset/Youtube05-Shakira.csv\")\n",
    "df3=pd.read_csv(\"dataset/Youtube03-LMFAO.csv\")"
   ]
  },
  {
   "cell_type": "code",
   "execution_count": 50,
   "id": "a2017945",
   "metadata": {},
   "outputs": [],
   "source": [
    "#forming a single file out of all the files\n",
    "frames=[df1,df2,df3,df4,df5]\n",
    "df_merge=pd.concat(frames)\n",
    "keys = [\"Psy\",\"KatyPerry\",\"LMFAO\",\"Eminem\",\"Shakira\"]\n",
    "df_keys=pd.concat(frames,keys=keys)\n",
    "dataset=df_keys"
   ]
  },
  {
   "cell_type": "code",
   "execution_count": 51,
   "id": "c5c6d0c3",
   "metadata": {},
   "outputs": [
    {
     "name": "stdout",
     "output_type": "stream",
     "text": [
      "9780\n",
      "(1956, 5)\n",
      "Index(['COMMENT_ID', 'AUTHOR', 'DATE', 'CONTENT', 'CLASS'], dtype='object')\n"
     ]
    }
   ],
   "source": [
    "print(dataset.size)   #size of dataset\n",
    "print(dataset.shape)  #shape of dataset\n",
    "print(dataset.keys()) #attributes of dataset"
   ]
  },
  {
   "cell_type": "code",
   "execution_count": 52,
   "id": "153b628f",
   "metadata": {},
   "outputs": [],
   "source": [
    "#text content\n",
    "dataset= dataset[[\"CONTENT\",\"CLASS\"]]\n",
    "#Classifying data\n",
    "dataset_x= dataset[\"CONTENT\"]       #Predictor attribute\n",
    "dataset_y=dataset[\"CLASS\"]          #Target attribute"
   ]
  },
  {
   "cell_type": "code",
   "execution_count": 53,
   "id": "aa93511f",
   "metadata": {},
   "outputs": [],
   "source": [
    "#Features from TF-IDF model\n",
    "corpus=dataset_x                          #Declaration of the variable\n",
    "cv = TfidfVectorizer()                     #Initiation of the TF-IDF model\n",
    "X = cv.fit_transform(corpus).toarray()    #fitting the corpus data into BOW model"
   ]
  },
  {
   "cell_type": "code",
   "execution_count": 54,
   "id": "b7fa8dff",
   "metadata": {},
   "outputs": [],
   "source": [
    "#splitting dataset into Train and Test\n",
    "X_train,X_test,y_train,y_test=train_test_split(X,dataset_y,test_size=0.2,random_state=0)"
   ]
  },
  {
   "cell_type": "code",
   "execution_count": 55,
   "id": "41c982b7",
   "metadata": {},
   "outputs": [
    {
     "data": {
      "text/plain": [
       "(1956, 4454)"
      ]
     },
     "execution_count": 55,
     "metadata": {},
     "output_type": "execute_result"
    }
   ],
   "source": [
    "X.shape"
   ]
  },
  {
   "cell_type": "code",
   "execution_count": 38,
   "id": "f2608cd0",
   "metadata": {},
   "outputs": [],
   "source": [
    "#initializing the model\n",
    "classifier=SVC(kernel = 'linear',random_state=0)"
   ]
  },
  {
   "cell_type": "code",
   "execution_count": 39,
   "id": "554063f1",
   "metadata": {},
   "outputs": [
    {
     "data": {
      "text/plain": [
       "SVC(kernel='linear', random_state=0)"
      ]
     },
     "execution_count": 39,
     "metadata": {},
     "output_type": "execute_result"
    }
   ],
   "source": [
    "classifier.fit(X_train,y_train)"
   ]
  },
  {
   "cell_type": "code",
   "execution_count": 40,
   "id": "8af152b5",
   "metadata": {},
   "outputs": [],
   "source": [
    "#saving the model\n",
    "Support_Vector_Machine = open(\"model.pkl\",\"wb\")       #open the file to write\n",
    "pickle.dump(classifier,Support_Vector_Machine)        #dumping an object to a file object\n",
    "Support_Vector_Machine.close()                        #closing the file object"
   ]
  }
 ],
 "metadata": {
  "kernelspec": {
   "display_name": "Python 3 (ipykernel)",
   "language": "python",
   "name": "python3"
  },
  "language_info": {
   "codemirror_mode": {
    "name": "ipython",
    "version": 3
   },
   "file_extension": ".py",
   "mimetype": "text/x-python",
   "name": "python",
   "nbconvert_exporter": "python",
   "pygments_lexer": "ipython3",
   "version": "3.9.7"
  }
 },
 "nbformat": 4,
 "nbformat_minor": 5
}
